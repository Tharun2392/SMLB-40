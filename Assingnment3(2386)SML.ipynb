{
  "nbformat": 4,
  "nbformat_minor": 0,
  "metadata": {
    "colab": {
      "provenance": [],
      "include_colab_link": true
    },
    "kernelspec": {
      "name": "python3",
      "display_name": "Python 3"
    },
    "language_info": {
      "name": "python"
    }
  },
  "cells": [
    {
      "cell_type": "markdown",
      "metadata": {
        "id": "view-in-github",
        "colab_type": "text"
      },
      "source": [
        "<a href=\"https://colab.research.google.com/github/Tharun2392/SMLB-40/blob/main/Assingnment3(2386)SML.ipynb\" target=\"_parent\"><img src=\"https://colab.research.google.com/assets/colab-badge.svg\" alt=\"Open In Colab\"/></a>"
      ]
    },
    {
      "cell_type": "markdown",
      "source": [
        "Jakkula tharun (2303A52386)"
      ],
      "metadata": {
        "id": "BX3uCHQgwOIb"
      }
    },
    {
      "cell_type": "markdown",
      "source": [
        "Question 1:\n",
        "\n",
        "Find out the maximum likelihood parameters values for california_housing [‘latiyude’,total_rooms’,’house_median_age’,’total_bedrooms’] data, each column individually."
      ],
      "metadata": {
        "id": "Z0GqJ0vNwuek"
      }
    },
    {
      "cell_type": "code",
      "source": [
        "from sklearn.datasets import fetch_california_housing\n",
        "import pandas as pd\n",
        "import numpy as np\n",
        "from scipy.optimize import minimize\n",
        "\n",
        "data = fetch_california_housing()\n",
        "df = pd.DataFrame(data.data, columns=data.feature_names)\n",
        "\n",
        "def neg_log_likelihood(params, data):\n",
        "    mu, sigma = params\n",
        "    return -np.sum(-0.5 * np.log(2 * np.pi * sigma**2) - (data - mu)**2 / (2 * sigma**2))\n",
        "\n",
        "def mle(data):\n",
        "    initial_params = [np.mean(data), np.std(data)]\n",
        "    result = minimize(neg_log_likelihood, initial_params, args=(data,), method='L-BFGS-B', bounds=[(None, None), (1e-6, None)])\n",
        "    return result.x\n",
        "\n",
        "features = ['Latitude', 'TotalRooms', 'HouseMedianAge', 'TotalBedrooms']\n",
        "for feature in features:\n",
        "    ##params = mle(df[feature])\n",
        "    print(f\"{feature}: Mean = {params[0]}, Std Dev = {params[1]}\")\n",
        "\n",
        "\n"
      ],
      "metadata": {
        "colab": {
          "base_uri": "https://localhost:8080/"
        },
        "id": "qMLfZfen1Lr6",
        "outputId": "8c0c898e-a930-4870-f338-c897ef7b0daf"
      },
      "execution_count": null,
      "outputs": [
        {
          "output_type": "stream",
          "name": "stdout",
          "text": [
            "Latitude: Mean = 35.63186143410853, Std Dev = 2.135900653797483\n",
            "TotalRooms: Mean = 35.63186143410853, Std Dev = 2.135900653797483\n",
            "HouseMedianAge: Mean = 35.63186143410853, Std Dev = 2.135900653797483\n",
            "TotalBedrooms: Mean = 35.63186143410853, Std Dev = 2.135900653797483\n"
          ]
        }
      ]
    },
    {
      "cell_type": "markdown",
      "source": [
        "Question 2:\n",
        "\n",
        "Find log-likelihood values for 50, 75, and 80. For California_housing [‘latitude’] and find the Max likelihood values."
      ],
      "metadata": {
        "id": "YYkt_l9W25ls"
      }
    },
    {
      "cell_type": "code",
      "source": [
        "from sklearn.datasets import fetch_california_housing\n",
        "import pandas as pd\n",
        "import numpy as np\n",
        "from scipy.optimize import minimize\n",
        "\n",
        "data = fetch_california_housing()\n",
        "df = pd.DataFrame(data.data, columns=data.feature_names)\n",
        "\n",
        "def neg_log_likelihood(params, data):\n",
        "    mu, sigma = params\n",
        "    return -np.sum(-0.5 * np.log(2 * np.pi * sigma**2) - (data - mu)**2 / (2 * sigma**2))\n",
        "\n",
        "def mle(data):\n",
        "    initial_params = [np.mean(data), np.std(data)]\n",
        "    result = minimize(neg_log_likelihood, initial_params, args=(data,), method='L-BFGS-B', bounds=[(None, None), (1e-6, None)])\n",
        "    return result.x\n",
        "\n",
        "latitude_data = df['Latitude']\n",
        "mu, sigma = mle(latitude_data)\n",
        "\n",
        "def log_likelihood(mu, sigma, x):\n",
        "    return -0.5 * np.log(2 * np.pi * sigma**2) - (x - mu)**2 / (2 * sigma**2)\n",
        "\n",
        "points = [50, 75, 80]\n",
        "log_likelihood_values = {point: log_likelihood(mu, sigma, point) for point in points}\n",
        "\n",
        "print(f\"MLE for Latitude: Mean = {mu}, Std Dev = {sigma}\")\n",
        "for point, ll_value in log_likelihood_values.items():\n",
        "    print(f\"Log-Likelihood for {point}: {ll_value}\")\n"
      ],
      "metadata": {
        "colab": {
          "base_uri": "https://localhost:8080/"
        },
        "id": "NiWT9Xrv_g8H",
        "outputId": "099aa8cb-50c8-417b-ff18-b1e814259269"
      },
      "execution_count": null,
      "outputs": [
        {
          "output_type": "stream",
          "name": "stdout",
          "text": [
            "MLE for Latitude: Mean = 35.63186143410853, Std Dev = 2.135900653797483\n",
            "Log-Likelihood for 50: -24.30388630999708\n",
            "Log-Likelihood for 75: -171.54038819247583\n",
            "Log-Likelihood for 80: -217.42758836196197\n"
          ]
        }
      ]
    },
    {
      "cell_type": "markdown",
      "source": [
        "Question 3:\n",
        "\n",
        "Estimate the density of each column of california_housing [‘latitude’,total_rooms’,’house_median_age’,’total_bedrooms’] data, For the bins [5, 10, 15, 20]. And write the observations."
      ],
      "metadata": {
        "id": "ISv7FfIT49rk"
      }
    },
    {
      "cell_type": "code",
      "source": [],
      "metadata": {
        "colab": {
          "base_uri": "https://localhost:8080/",
          "height": 106
        },
        "id": "olLBpu4n8ADH",
        "outputId": "33045f83-e20d-40c4-a9aa-fb9f3407a0f8"
      },
      "execution_count": null,
      "outputs": [
        {
          "output_type": "error",
          "ename": "IndentationError",
          "evalue": "expected an indented block after 'for' statement on line 13 (<ipython-input-62-7cd99b40db0c>, line 16)",
          "traceback": [
            "\u001b[0;36m  File \u001b[0;32m\"<ipython-input-62-7cd99b40db0c>\"\u001b[0;36m, line \u001b[0;32m16\u001b[0m\n\u001b[0;31m    plt.xlabel(feature)\u001b[0m\n\u001b[0m    ^\u001b[0m\n\u001b[0;31mIndentationError\u001b[0m\u001b[0;31m:\u001b[0m expected an indented block after 'for' statement on line 13\n"
          ]
        }
      ]
    }
  ]
}